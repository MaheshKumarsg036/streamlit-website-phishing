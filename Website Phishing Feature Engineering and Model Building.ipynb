{
 "cells": [
  {
   "cell_type": "markdown",
   "id": "15b76b0d",
   "metadata": {},
   "source": [
    "# Feature Engineering and Model Building"
   ]
  },
  {
   "cell_type": "code",
   "execution_count": 1,
   "id": "5d64c924",
   "metadata": {},
   "outputs": [],
   "source": [
    "# Importing the libraries \n",
    "import numpy as np\n",
    "import pandas as pd\n",
    "import matplotlib.pyplot as plt\n",
    "import seaborn as sns\n",
    "from sklearn.model_selection import train_test_split\n",
    "from sklearn.svm import SVC\n",
    "from sklearn.model_selection import GridSearchCV\n",
    "from sklearn.ensemble import RandomForestClassifier\n",
    "from sklearn.linear_model import LogisticRegression\n",
    "from sklearn.neighbors import KNeighborsClassifier\n",
    "from sklearn.svm import SVC\n",
    "from xgboost import XGBClassifier\n",
    "from sklearn.metrics  import roc_auc_score,accuracy_score,f1_score,precision_score,recall_score\n",
    "from sklearn.metrics import classification_report\n",
    "from IPython.display import display, HTML\n",
    "import pickle\n",
    "import warnings\n",
    "warnings.filterwarnings('ignore')"
   ]
  },
  {
   "cell_type": "code",
   "execution_count": 2,
   "id": "069585ac",
   "metadata": {},
   "outputs": [
    {
     "data": {
      "text/html": [
       "For Detailed EDA report please refer <a href=\"Website Phishing Problem Statement and EDA .ipynb\" target=\"_blank\">EDA Notebook</a>"
      ],
      "text/plain": [
       "<IPython.core.display.HTML object>"
      ]
     },
     "metadata": {},
     "output_type": "display_data"
    }
   ],
   "source": [
    "relative_path = 'Website Phishing Problem Statement and EDA .ipynb'\n",
    "\n",
    "# Generate the hyperlink\n",
    "html_link = f\"\"\"For Detailed EDA report please refer <a href=\"{relative_path}\" target=\"_blank\">EDA Notebook</a>\"\"\"\n",
    "\n",
    "# Display the hyperlink\n",
    "display(HTML(html_link))"
   ]
  },
  {
   "cell_type": "markdown",
   "id": "c74365f6",
   "metadata": {},
   "source": [
    " ### Train, validation and test split"
   ]
  },
  {
   "cell_type": "code",
   "execution_count": 3,
   "id": "53d93685",
   "metadata": {},
   "outputs": [
    {
     "name": "stdout",
     "output_type": "stream",
     "text": [
      "(11055, 30) (11055,)\n"
     ]
    },
    {
     "data": {
      "text/plain": [
       "1    6157\n",
       "0    4898\n",
       "Name: Result, dtype: int64"
      ]
     },
     "execution_count": 3,
     "metadata": {},
     "output_type": "execute_result"
    }
   ],
   "source": [
    "df = pd.read_csv('clean_data.csv')\n",
    "df['Result'] = df['Result'].apply(lambda x: 0 if x==-1 else 1)\n",
    "X = df.drop(columns=['Result','Unnamed: 0'],axis=1)\n",
    "y = df['Result']\n",
    "features = X.columns\n",
    "print(X.shape,y.shape)\n",
    "df['Result'].value_counts()"
   ]
  },
  {
   "cell_type": "code",
   "execution_count": 4,
   "id": "633434ea",
   "metadata": {},
   "outputs": [],
   "source": [
    "X = X.to_numpy()\n",
    "y = y.to_numpy()"
   ]
  },
  {
   "cell_type": "code",
   "execution_count": 5,
   "id": "8762a031",
   "metadata": {},
   "outputs": [],
   "source": [
    "X_train, X_test, y_train, y_test = train_test_split(X, y, test_size=0.2, random_state=42)"
   ]
  },
  {
   "cell_type": "code",
   "execution_count": 6,
   "id": "fc885739",
   "metadata": {},
   "outputs": [],
   "source": [
    "def load_model_from_pickle(file_path):\n",
    "    with open(file_path, 'rb') as file:\n",
    "        model = pickle.load(file)\n",
    "    return model"
   ]
  },
  {
   "cell_type": "markdown",
   "id": "404715ed",
   "metadata": {},
   "source": [
    "### No Need of Data Scaling "
   ]
  },
  {
   "cell_type": "markdown",
   "id": "cec14b53",
   "metadata": {},
   "source": [
    "**Data scaling** techniques like normalization or standardization are primarily used for numerical features that have a wide range of values. These techniques aim to rescale the values to a common scale to prevent any particular feature from dominating the learning process.\n",
    "<br/>\n",
    "However, since your features consist of discrete values (-1, 0, and 1), there is no need for scaling. Categorical or ordinal features already have a defined order or grouping, and their values carry a specific meaning. By applying scaling, you would risk losing the inherent structure and meaning of the data."
   ]
  },
  {
   "cell_type": "markdown",
   "id": "4769a1f8",
   "metadata": {},
   "source": [
    "### Model 1: Logistic Regression "
   ]
  },
  {
   "cell_type": "markdown",
   "id": "c431874b",
   "metadata": {},
   "source": [
    "The provided code utilizes a logistic regression model to classify whether a website is phishing or not based on a set of 30 input features. Logistic regression is a supervised learning algorithm commonly used for binary classification tasks. In this scenario, the goal is to predict whether a website is involved in phishing activities or not.\n",
    "<br/>\n",
    "The logistic regression model takes into account 30 specific features extracted from the website data. These features serve as input variables for the logistic regression algorithm, which analyzes their relationship with the target variable - the phishing classification.\n",
    "<br/>\n",
    "The logistic regression model learns from a labeled dataset, where each website is labeled as either phishing or non-phishing. During the training process, the model estimates the coefficients for each feature, representing the strength and direction of their influence on the classification outcome. By applying a logistic function to the linear combination of the feature values and their corresponding coefficients, the model calculates the probability of a website being classified as phishing.\n",
    "<br/>\n",
    "By using logistic regression, this code provides a powerful and interpretable approach to analyze the relationship between the 30 website features and the classification of phishing activities. The model allows for the identification of important features that contribute significantly to the classification, aiding in the detection and prevention of potential phishing websites."
   ]
  },
  {
   "cell_type": "code",
   "execution_count": 24,
   "id": "81dce49e",
   "metadata": {},
   "outputs": [],
   "source": [
    "# Defining the parameter grid\n",
    "param_grid = {\n",
    "    'penalty': ['l1', 'l2', 'elasticnet'],  # Regularization penalty ('l1', 'l2', 'elasticnet')\n",
    "    \"C\": np.logspace(-4, 4, 10),  # Inverse of regularization strength\n",
    "    'l1_ratio': [0.1, 0.5, 0.9],  # Elastic Net mixing parameter (used only when penalty='elasticnet') \n",
    "    'max_iter': [100, 150, 200, 250, 300], # Maximum number of iterations\n",
    "    \"solver\": ['liblinear', 'newton-cg', 'lbfgs', 'sag','saga'] # Determines the optimization algorithm used to fit the logistic regression model\n",
    "}\n",
    "\n",
    "# Create the Logistic Regression classifier\n",
    "lr = LogisticRegression(random_state=42)\n",
    "\n",
    "# Perform GridSearchCV to find the best model\n",
    "grid_search = GridSearchCV(lr, param_grid, cv=5, scoring='roc_auc')\n",
    "grid_search.fit(X_train, y_train)\n",
    "\n",
    "# Get the best model and its hyperparameters\n",
    "best_lr = grid_search.best_estimator_\n",
    "best_params = grid_search.best_params_"
   ]
  },
  {
   "cell_type": "code",
   "execution_count": 25,
   "id": "9bba8bf1",
   "metadata": {},
   "outputs": [
    {
     "name": "stdout",
     "output_type": "stream",
     "text": [
      "Best parameters for Logistic Regression\n",
      "{'C': 21.54434690031882, 'l1_ratio': 0.1, 'max_iter': 100, 'penalty': 'l1', 'solver': 'saga'}\n",
      "For Logistic Regression\n",
      "AUC-ROC Score: 0.921479354548334\n",
      "Accuracy Score: 0.9240162822252375\n",
      "Precision Score: 0.9269442262372348\n",
      "Recall Score: 0.9402390438247012\n",
      "F1 Score: 0.9335443037974683\n"
     ]
    }
   ],
   "source": [
    "print('Best parameters for Logistic Regression')\n",
    "print(best_params)\n",
    "y_pred = best_lr.predict(X_test)\n",
    "\n",
    "# Calculate the AUC-ROC score\n",
    "auc_roc = roc_auc_score(y_test, y_pred)\n",
    "\n",
    "# Calculate the accuracy score\n",
    "accuracy = accuracy_score(y_test, y_pred)\n",
    "\n",
    "# Calculate the precision score\n",
    "precision = precision_score(y_test, y_pred)\n",
    "\n",
    "# Calculate the recall score\n",
    "recall = recall_score(y_test, y_pred)\n",
    "\n",
    "# Calculate the F1 score\n",
    "f1 = f1_score(y_test, y_pred)\n",
    "\n",
    "# Print the evaluation metrics\n",
    "print('For Logistic Regression')\n",
    "print(\"AUC-ROC Score:\", auc_roc)\n",
    "print(\"Accuracy Score:\", accuracy)\n",
    "print(\"Precision Score:\", precision)\n",
    "print(\"Recall Score:\", recall)\n",
    "print(\"F1 Score:\", f1)"
   ]
  },
  {
   "cell_type": "code",
   "execution_count": 26,
   "id": "f64a639e",
   "metadata": {},
   "outputs": [
    {
     "name": "stdout",
     "output_type": "stream",
     "text": [
      "Feature Importance for Logistic Regression\n",
      "                        Feature  Importance_lr\n",
      "5                 Prefix_Suffix       4.316027\n",
      "13                URL_of_Anchor       3.263872\n",
      "7                SSLfinal_State       1.617506\n",
      "18                     Redirect       1.178125\n",
      "28       Links_pointing_to_page       0.906898\n",
      "15                          SFH       0.870889\n",
      "14                Links_in_tags       0.855125\n",
      "25                  web_traffic       0.818515\n",
      "2            Shortining_Service       0.768011\n",
      "27                 Google_Index       0.691857\n",
      "0             having_IP_Address       0.689011\n",
      "6             having_Sub_Domain       0.621159\n",
      "10                         port       0.598792\n",
      "24                    DNSRecord       0.578529\n",
      "11                  HTTPS_token       0.514591\n",
      "16          Submitting_to_email       0.404729\n",
      "29           Statistical_report       0.338897\n",
      "9                       Favicon       0.332280\n",
      "22                       Iframe       0.322757\n",
      "19                 on_mouseover       0.311850\n",
      "3              having_At_Symbol       0.279504\n",
      "12                  Request_URL       0.247968\n",
      "20                   RightClick       0.242102\n",
      "4      double_slash_redirecting       0.154426\n",
      "26                    Page_Rank       0.147371\n",
      "17                 Abnormal_URL       0.146600\n",
      "21                  popUpWidnow       0.117999\n",
      "1                    URL_Length       0.107827\n",
      "23                age_of_domain       0.056942\n",
      "8   Domain_registeration_length       0.038950\n"
     ]
    }
   ],
   "source": [
    "feature_importance_lr = abs(best_lr.coef_[0])\n",
    "\n",
    "# Create a DataFrame to display the feature importance\n",
    "feature_importance_lr_df = pd.DataFrame({'Feature': features, 'Importance_lr': feature_importance_lr})\n",
    "\n",
    "# Sort the DataFrame by importance in descending order\n",
    "feature_importance_lr_df = feature_importance_lr_df.sort_values(by='Importance_lr', ascending=False)\n",
    "\n",
    "# Print the feature importance\n",
    "print(\"Feature Importance for Logistic Regression\")\n",
    "print(feature_importance_lr_df)\n"
   ]
  },
  {
   "cell_type": "code",
   "execution_count": 27,
   "id": "7dcea8da",
   "metadata": {},
   "outputs": [],
   "source": [
    "model_file = 'model_lr_1.pkl'\n",
    "\n",
    "# Save the model to a pickle file\n",
    "with open(model_file, 'wb') as f:\n",
    "    pickle.dump(best_lr, f)"
   ]
  },
  {
   "cell_type": "code",
   "execution_count": 28,
   "id": "1f144528",
   "metadata": {},
   "outputs": [
    {
     "name": "stdout",
     "output_type": "stream",
     "text": [
      "Classification Report of Logistic Regression:\n",
      "              precision    recall  f1-score   support\n",
      "\n",
      "           0       0.92      0.90      0.91       956\n",
      "           1       0.93      0.94      0.93      1255\n",
      "\n",
      "    accuracy                           0.92      2211\n",
      "   macro avg       0.92      0.92      0.92      2211\n",
      "weighted avg       0.92      0.92      0.92      2211\n",
      "\n"
     ]
    }
   ],
   "source": [
    "pickle_file_path = 'model_lr_1.pkl'\n",
    "best_lr = load_model_from_pickle(pickle_file_path)\n",
    "y_pred = best_lr.predict(X_test)\n",
    "# Print classification report\n",
    "print(\"Classification Report of Logistic Regression:\")\n",
    "print(classification_report(y_test, y_pred))"
   ]
  },
  {
   "cell_type": "markdown",
   "id": "e94c4440",
   "metadata": {},
   "source": [
    "### Model 2: K Nearest Neighbour Classification"
   ]
  },
  {
   "cell_type": "markdown",
   "id": "716dc6c7",
   "metadata": {},
   "source": [
    "The **k-Nearest Neighbors (kNN) algorithm** is a simple and intuitive classification algorithm used for both supervised and unsupervised learning tasks. In the context of supervised learning, kNN is a non-parametric method that assigns a class label to a new data point based on the majority class labels of its k nearest neighbors in the feature space. The algorithm assumes that similar data points tend to belong to the same class. The value of k, which represents the number of neighbors to consider, is a hyperparameter that can be chosen based on the dataset and problem at hand.\n",
    "\n",
    "In the case of classifying websites as phishing or non-phishing, the kNN algorithm can be applied using 30 input features that capture various characteristics of the websites. The algorithm takes these feature values as input and compares them with the feature values of known websites in the training dataset. It then identifies the k nearest neighbors based on distance metric and assigns the majority class label among those neighbors to the new website."
   ]
  },
  {
   "cell_type": "code",
   "execution_count": 29,
   "id": "afd446e0",
   "metadata": {},
   "outputs": [],
   "source": [
    "# Defining the parameter grid\n",
    "param_grid = {\n",
    "    'n_neighbors': [3, 4, 5, 6, 7], # No of neighbour \n",
    "    'weights': ['uniform', 'distance'], # weight function\n",
    "    'p': [1, 2] # he power parameter for the Minkowski distance metric \n",
    "}\n",
    "\n",
    "# Create the KNN classifier\n",
    "knn = KNeighborsClassifier()\n",
    "\n",
    "# Perform GridSearchCV to find the best model\n",
    "grid_search = GridSearchCV(knn, param_grid, cv=5, scoring='roc_auc')\n",
    "grid_search.fit(X_train, y_train)\n",
    "\n",
    "# Get the best model and its hyperparameters\n",
    "best_knn = grid_search.best_estimator_\n",
    "best_params = grid_search.best_params_"
   ]
  },
  {
   "cell_type": "code",
   "execution_count": 30,
   "id": "5228ade2",
   "metadata": {},
   "outputs": [
    {
     "name": "stdout",
     "output_type": "stream",
     "text": [
      "Best parameters for KNN\n",
      "{'n_neighbors': 7, 'p': 1, 'weights': 'distance'}\n",
      "For KNN\n",
      "AUC-ROC Score: 0.9588837120138692\n",
      "Accuracy Score: 0.9611035730438715\n",
      "Precision Score: 0.9569976544175137\n",
      "Recall Score: 0.9752988047808765\n",
      "F1 Score: 0.9660615627466456\n"
     ]
    }
   ],
   "source": [
    "print('Best parameters for KNN')\n",
    "print(best_params)\n",
    "y_pred = best_knn.predict(X_test)\n",
    "\n",
    "# Calculate the AUC-ROC score\n",
    "auc_roc = roc_auc_score(y_test, y_pred)\n",
    "\n",
    "# Calculate the accuracy score\n",
    "accuracy = accuracy_score(y_test, y_pred)\n",
    "\n",
    "# Calculate the precision score\n",
    "precision = precision_score(y_test, y_pred)\n",
    "\n",
    "# Calculate the recall score\n",
    "recall = recall_score(y_test, y_pred)\n",
    "\n",
    "# Calculate the F1 score\n",
    "f1 = f1_score(y_test, y_pred)\n",
    "\n",
    "# Print the evaluation metrics\n",
    "print('For KNN')\n",
    "print(\"AUC-ROC Score:\", auc_roc)\n",
    "print(\"Accuracy Score:\", accuracy)\n",
    "print(\"Precision Score:\", precision)\n",
    "print(\"Recall Score:\", recall)\n",
    "print(\"F1 Score:\", f1)"
   ]
  },
  {
   "cell_type": "code",
   "execution_count": 31,
   "id": "0c0771e6",
   "metadata": {},
   "outputs": [],
   "source": [
    "model_file = 'model_knn_1.pkl'\n",
    "\n",
    "# Save the model to a pickle file\n",
    "with open(model_file, 'wb') as f:\n",
    "    pickle.dump(best_knn, f)"
   ]
  },
  {
   "cell_type": "code",
   "execution_count": 32,
   "id": "a7b647ae",
   "metadata": {},
   "outputs": [
    {
     "name": "stdout",
     "output_type": "stream",
     "text": [
      "Classification Report of KNN:\n",
      "              precision    recall  f1-score   support\n",
      "\n",
      "           0       0.97      0.94      0.95       956\n",
      "           1       0.96      0.98      0.97      1255\n",
      "\n",
      "    accuracy                           0.96      2211\n",
      "   macro avg       0.96      0.96      0.96      2211\n",
      "weighted avg       0.96      0.96      0.96      2211\n",
      "\n"
     ]
    }
   ],
   "source": [
    "pickle_file_path = 'model_knn_1.pkl'\n",
    "best_knn = load_model_from_pickle(pickle_file_path)\n",
    "y_pred = best_knn.predict(X_test)\n",
    "# Print classification report\n",
    "print(\"Classification Report of KNN:\")\n",
    "print(classification_report(y_test, y_pred))"
   ]
  },
  {
   "cell_type": "markdown",
   "id": "bdd51043",
   "metadata": {},
   "source": [
    "### Model 3: Random Forest Classifier"
   ]
  },
  {
   "cell_type": "markdown",
   "id": "6025bd1e",
   "metadata": {},
   "source": [
    "**Random Forest** is an ensemble learning algorithm that combines multiple decision trees to make predictions. By training on a labeled dataset, where websites are categorized as phishing or non-phishing, the Random Forest model learns the relationships between these features and the target variable. This allows it to effectively classify new websites as either phishing or non-phishing based on the provided input features. The ensemble nature of Random Forest ensures robustness and generalization, making it a popular choice for classification tasks, including the identification of potential phishing websites."
   ]
  },
  {
   "cell_type": "code",
   "execution_count": 44,
   "id": "1b0d722b",
   "metadata": {},
   "outputs": [],
   "source": [
    "# Defining the parameter grid\n",
    "param_grid = {\n",
    "    'n_estimators': [100,150,200], # Number of Trees \n",
    "    'max_depth': [1,2,3,4,5, 10], # Maximum depth of the tree\n",
    "    'min_samples_leaf': [1, 2, 4], # Minimum number of samples required to be at a leaf node\n",
    "    'max_features': ['sqrt', 'log2'], # Number of features to consider while looking for best split\n",
    "    'criterion':['gini', 'entropy', 'log_loss'] # Criteria used for spliting\n",
    "}\n",
    "rf_classifier = RandomForestClassifier()\n",
    "grid_search = GridSearchCV(estimator=rf_classifier, param_grid=param_grid, cv=5,scoring='roc_auc')\n",
    "grid_search.fit(X_train, y_train)\n",
    "best_params = grid_search.best_params_\n",
    "best_rf = grid_search.best_estimator_"
   ]
  },
  {
   "cell_type": "code",
   "execution_count": 45,
   "id": "3cd67222",
   "metadata": {},
   "outputs": [
    {
     "name": "stdout",
     "output_type": "stream",
     "text": [
      "Best parameters for Random Forest Classifier\n",
      "{'criterion': 'gini', 'max_depth': 10, 'max_features': 'sqrt', 'min_samples_leaf': 1, 'n_estimators': 100}\n",
      "For Random Forest Classifier\n",
      "AUC-ROC Score: 0.9472528296854423\n",
      "Accuracy Score: 0.9511533242876526\n",
      "Precision Score: 0.9401381427475057\n",
      "Recall Score: 0.9760956175298805\n",
      "F1 Score: 0.9577795152462862\n"
     ]
    }
   ],
   "source": [
    "print('Best parameters for Random Forest Classifier')\n",
    "print(best_params)\n",
    "y_pred = best_rf.predict(X_test)\n",
    "\n",
    "# Calculate the AUC-ROC score\n",
    "auc_roc = roc_auc_score(y_test, y_pred)\n",
    "\n",
    "# Calculate the accuracy score\n",
    "accuracy = accuracy_score(y_test, y_pred)\n",
    "\n",
    "# Calculate the precision score\n",
    "precision = precision_score(y_test, y_pred)\n",
    "\n",
    "# Calculate the recall score\n",
    "recall = recall_score(y_test, y_pred)\n",
    "\n",
    "# Calculate the F1 score\n",
    "f1 = f1_score(y_test, y_pred)\n",
    "\n",
    "# Print the evaluation metrics\n",
    "print('For Random Forest Classifier')\n",
    "print(\"AUC-ROC Score:\", auc_roc)\n",
    "print(\"Accuracy Score:\", accuracy)\n",
    "print(\"Precision Score:\", precision)\n",
    "print(\"Recall Score:\", recall)\n",
    "print(\"F1 Score:\", f1)"
   ]
  },
  {
   "cell_type": "code",
   "execution_count": 46,
   "id": "af1c4b67",
   "metadata": {},
   "outputs": [],
   "source": [
    "model_file = 'model_rf_1.pkl'\n",
    "\n",
    "# Save the model to a pickle file\n",
    "with open(model_file, 'wb') as f:\n",
    "    pickle.dump(best_rf, f)"
   ]
  },
  {
   "cell_type": "code",
   "execution_count": 47,
   "id": "d6cee1e4",
   "metadata": {},
   "outputs": [
    {
     "name": "stdout",
     "output_type": "stream",
     "text": [
      "Classification Report of Random Forest:\n",
      "              precision    recall  f1-score   support\n",
      "\n",
      "           0       0.97      0.92      0.94       956\n",
      "           1       0.94      0.98      0.96      1255\n",
      "\n",
      "    accuracy                           0.95      2211\n",
      "   macro avg       0.95      0.95      0.95      2211\n",
      "weighted avg       0.95      0.95      0.95      2211\n",
      "\n"
     ]
    }
   ],
   "source": [
    "pickle_file_path = 'model_rf_1.pkl'\n",
    "best_rf = load_model_from_pickle(pickle_file_path)\n",
    "y_pred = best_rf.predict(X_test)\n",
    "# Print classification report\n",
    "print(\"Classification Report of Random Forest:\")\n",
    "print(classification_report(y_test, y_pred))"
   ]
  },
  {
   "cell_type": "markdown",
   "id": "bccc7499",
   "metadata": {},
   "source": [
    "### Model 4: Kernel SVM"
   ]
  },
  {
   "cell_type": "markdown",
   "id": "f20f096f",
   "metadata": {},
   "source": [
    "The **Support Vector Machine (SVM) algorithm** is a powerful supervised learning method commonly used for binary classification tasks. It works by finding an optimal hyperplane that separates the data into different classes while maximizing the margin between the hyperplane and the closest data points from each class. SVMs are particularly useful when dealing with high-dimensional feature spaces, making them suitable for classifying websites based on a set of 30 input features.\n",
    "<br/>\n",
    "By utilizing the SVM algorithm, we can effectively perform binary classification of websites based on their features, distinguishing between phishing and non-phishing websites. SVMs have the advantage of being able to handle high-dimensional feature spaces and are effective at finding the optimal decision boundary."
   ]
  },
  {
   "cell_type": "code",
   "execution_count": 64,
   "id": "e888c213",
   "metadata": {},
   "outputs": [
    {
     "name": "stdout",
     "output_type": "stream",
     "text": [
      "Best parameters: {'C': 1, 'coef0': 1.0, 'gamma': 0.1, 'kernel': 'poly'}\n"
     ]
    }
   ],
   "source": [
    "# Define the parameter grid for GridSearchCV\n",
    "param_grid = {\n",
    "    'C': [0.1,1],  # Regularization parameter\n",
    "    'gamma': [0.1, 0.01],  # Kernel coefficient for 'rbf', 'poly', 'sigmoid'\n",
    "    'kernel': ['rbf', 'poly', 'sigmoid'],  # Kernel type\n",
    "    'coef0': [0.1, 0.5, 1.0]\n",
    "}\n",
    "svm = SVC()\n",
    "grid_search = GridSearchCV(svm, param_grid, cv=5,scoring='roc_auc')\n",
    "grid_search.fit(X_train, y_train)\n",
    "print(\"Best parameters:\", grid_search.best_params_)"
   ]
  },
  {
   "cell_type": "code",
   "execution_count": 65,
   "id": "bfdbb5e1",
   "metadata": {},
   "outputs": [
    {
     "name": "stdout",
     "output_type": "stream",
     "text": [
      "For Random Forest Classifier\n",
      "AUC-ROC Score: 0.9599051492773675\n",
      "Accuracy Score: 0.9615558570782451\n",
      "Precision Score: 0.9606299212598425\n",
      "Recall Score: 0.9721115537848606\n",
      "F1 Score: 0.9663366336633663\n",
      "Classification Report:\n",
      "              precision    recall  f1-score   support\n",
      "\n",
      "           0       0.96      0.95      0.96       956\n",
      "           1       0.96      0.97      0.97      1255\n",
      "\n",
      "    accuracy                           0.96      2211\n",
      "   macro avg       0.96      0.96      0.96      2211\n",
      "weighted avg       0.96      0.96      0.96      2211\n",
      "\n"
     ]
    }
   ],
   "source": [
    "best_svm = grid_search.best_estimator_\n",
    "y_pred = best_svm.predict(X_test)\n",
    "\n",
    "# Calculate the AUC-ROC score\n",
    "auc_roc = roc_auc_score(y_test, y_pred)\n",
    "\n",
    "# Calculate the accuracy score\n",
    "accuracy = accuracy_score(y_test, y_pred)\n",
    "\n",
    "# Calculate the precision score\n",
    "precision = precision_score(y_test, y_pred)\n",
    "\n",
    "# Calculate the recall score\n",
    "recall = recall_score(y_test, y_pred)\n",
    "\n",
    "# Calculate the F1 score\n",
    "f1 = f1_score(y_test, y_pred)\n",
    "\n",
    "# Print the evaluation metrics\n",
    "print('For Random Forest Classifier')\n",
    "print(\"AUC-ROC Score:\", auc_roc)\n",
    "print(\"Accuracy Score:\", accuracy)\n",
    "print(\"Precision Score:\", precision)\n",
    "print(\"Recall Score:\", recall)\n",
    "print(\"F1 Score:\", f1)\n",
    "\n",
    "# Print classification report\n",
    "print(\"Classification Report:\")\n",
    "print(classification_report(y_test, y_pred))"
   ]
  },
  {
   "cell_type": "code",
   "execution_count": 55,
   "id": "10a57b74",
   "metadata": {},
   "outputs": [],
   "source": [
    "model_file = 'model_svm_1.pkl'\n",
    "\n",
    "# Save the model to a pickle file\n",
    "with open(model_file, 'wb') as f:\n",
    "    pickle.dump(best_svm, f)"
   ]
  },
  {
   "cell_type": "markdown",
   "id": "a1ebe2a6",
   "metadata": {},
   "source": [
    "### Model 5: XGBoost Classifier"
   ]
  },
  {
   "cell_type": "markdown",
   "id": "017cd271",
   "metadata": {},
   "source": [
    "**XGBoost, short for Extreme Gradient Boosting**, is a powerful and widely used machine learning algorithm known for its exceptional performance in various domains, including classification tasks. The XGBoost classifier is an optimized implementation of the gradient boosting framework, which combines the strength of multiple weak prediction models, such as decision trees, to create a strong ensemble model. It leverages gradient boosting techniques to iteratively build new models that correct the mistakes made by the previous models, resulting in improved predictive accuracy.\n",
    "<br/>\n",
    "We can utilize the XGBoost algorithm to classify the website as phishing or non-phishing. Given the input features of the website it classifies the website as phishing or non-phishing."
   ]
  },
  {
   "cell_type": "code",
   "execution_count": 56,
   "id": "ca5558c9",
   "metadata": {},
   "outputs": [
    {
     "name": "stdout",
     "output_type": "stream",
     "text": [
      "Best parameters: {'learning_rate': 0.1, 'max_depth': 5, 'n_estimators': 300}\n"
     ]
    }
   ],
   "source": [
    "# Define the parameter grid for GridSearchCV\n",
    "param_grid = {\n",
    "    'max_depth': [3, 4, 5],  # Maximum tree depth\n",
    "    'learning_rate': [0.1, 0.01, 0.001],  # Learning rate\n",
    "    'n_estimators': [100, 200, 300],  # Number of trees\n",
    "}\n",
    "\n",
    "# Create an instance of the XGBoost classifier\n",
    "xgb = XGBClassifier()\n",
    "\n",
    "# Perform grid search cross-validation\n",
    "grid_search = GridSearchCV(xgb, param_grid, cv=5,scoring='roc_auc')\n",
    "grid_search.fit(X_train, y_train)\n",
    "\n",
    "# Print the best parameters found\n",
    "print(\"Best parameters:\", grid_search.best_params_)"
   ]
  },
  {
   "cell_type": "code",
   "execution_count": 60,
   "id": "37b76ea5",
   "metadata": {},
   "outputs": [
    {
     "name": "stdout",
     "output_type": "stream",
     "text": [
      "For Random Forest Classifier\n",
      "AUC-ROC Score: 0.9637400190034838\n",
      "Accuracy Score: 0.9656264133876075\n",
      "Precision Score: 0.9623529411764706\n",
      "Recall Score: 0.9776892430278884\n",
      "F1 Score: 0.9699604743083005\n",
      "Classification Report:\n",
      "              precision    recall  f1-score   support\n",
      "\n",
      "           0       0.97      0.95      0.96       956\n",
      "           1       0.96      0.98      0.97      1255\n",
      "\n",
      "    accuracy                           0.97      2211\n",
      "   macro avg       0.97      0.96      0.96      2211\n",
      "weighted avg       0.97      0.97      0.97      2211\n",
      "\n"
     ]
    }
   ],
   "source": [
    "# Evaluate the best model on the test set\n",
    "best_xgbc = grid_search.best_estimator_\n",
    "y_pred = best_xgbc.predict(X_test)\n",
    "\n",
    "# Calculate the AUC-ROC score\n",
    "auc_roc = roc_auc_score(y_test, y_pred)\n",
    "\n",
    "# Calculate the accuracy score\n",
    "accuracy = accuracy_score(y_test, y_pred)\n",
    "\n",
    "# Calculate the precision score\n",
    "precision = precision_score(y_test, y_pred)\n",
    "\n",
    "# Calculate the recall score\n",
    "recall = recall_score(y_test, y_pred)\n",
    "\n",
    "# Calculate the F1 score\n",
    "f1 = f1_score(y_test, y_pred)\n",
    "\n",
    "# Print the evaluation metrics\n",
    "print('For Random Forest Classifier')\n",
    "print(\"AUC-ROC Score:\", auc_roc)\n",
    "print(\"Accuracy Score:\", accuracy)\n",
    "print(\"Precision Score:\", precision)\n",
    "print(\"Recall Score:\", recall)\n",
    "print(\"F1 Score:\", f1)\n",
    "\n",
    "# Print classification report\n",
    "print(\"Classification Report:\")\n",
    "print(classification_report(y_test, y_pred))\n"
   ]
  },
  {
   "cell_type": "code",
   "execution_count": 61,
   "id": "ca548de3",
   "metadata": {},
   "outputs": [],
   "source": [
    "model_file = 'model_xgb_1.pkl'\n",
    "\n",
    "# Save the model to a pickle file\n",
    "with open(model_file, 'wb') as f:\n",
    "    pickle.dump(best_xgbc, f)"
   ]
  },
  {
   "cell_type": "code",
   "execution_count": 8,
   "id": "98691e3a",
   "metadata": {},
   "outputs": [
    {
     "data": {
      "text/plain": [
       "<sklearn.metrics._plot.confusion_matrix.ConfusionMatrixDisplay at 0x27436f34820>"
      ]
     },
     "execution_count": 8,
     "metadata": {},
     "output_type": "execute_result"
    },
    {
     "data": {
      "image/png": "[encoded data removed]",
      "text/plain": [
       "<Figure size 640x480 with 2 Axes>"
      ]
     },
     "metadata": {},
     "output_type": "display_data"
    }
   ],
   "source": [
    "from sklearn.metrics import confusion_matrix, ConfusionMatrixDisplay\n",
    "best_xgb = load_model_from_pickle('model_xgb_1.pkl')\n",
    "y_pred = best_xgb.predict(X_test)\n",
    "cm = confusion_matrix(y_test, y_pred, labels=best_xgb.classes_)\n",
    "dis = ConfusionMatrixDisplay(confusion_matrix=cm,display_labels=best_xgb.classes_)\n",
    "dis.plot()"
   ]
  },
  {
   "cell_type": "code",
   "execution_count": null,
   "id": "5f3b79f3",
   "metadata": {},
   "outputs": [],
   "source": []
  }
 ],
 "metadata": {
  "kernelspec": {
   "display_name": "Python 3 (ipykernel)",
   "language": "python",
   "name": "python3"
  },
  "language_info": {
   "codemirror_mode": {
    "name": "ipython",
    "version": 3
   },
   "file_extension": ".py",
   "mimetype": "text/x-python",
   "name": "python",
   "nbconvert_exporter": "python",
   "pygments_lexer": "ipython3",
   "version": "3.10.5"
  }
 },
 "nbformat": 4,
 "nbformat_minor": 5
}
